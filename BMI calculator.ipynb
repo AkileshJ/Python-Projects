{
 "cells": [
  {
   "cell_type": "markdown",
   "id": "88d65ba7-f6b3-473b-af78-a10d460e44d7",
   "metadata": {},
   "source": [
    "# BMI Calculator"
   ]
  },
  {
   "cell_type": "code",
   "execution_count": 12,
   "id": "a37eeb36-78af-4e17-851b-54d6c34976a1",
   "metadata": {},
   "outputs": [
    {
     "name": "stdin",
     "output_type": "stream",
     "text": [
      "Enter your weight in kgs:  83\n",
      "Enter your height in meters:  1.79\n"
     ]
    },
    {
     "name": "stdout",
     "output_type": "stream",
     "text": [
      "25.90431010268094\n"
     ]
    }
   ],
   "source": [
    "weight = int(input(\"Enter your weight in kgs: \"))\n",
    "height = float(input(\"Enter your height in meters: \"))\n",
    "\n",
    "BMI = (weight / height**2)\n",
    "print(BMI)"
   ]
  },
  {
   "cell_type": "raw",
   "id": "7c561263-fc59-41b4-92e5-babff91d2b61",
   "metadata": {},
   "source": [
    "Below 18.5\tUnderweight\n",
    "18.5 - 24.9\tHealthy weight\n",
    "25.0 - 29.9\tOverweight\n",
    "30.0 - 34.5 Obese\n",
    "35.0 - 39.9 Severely Obese\n",
    "40.0 and over Morbidly Obese"
   ]
  },
  {
   "cell_type": "code",
   "execution_count": 17,
   "id": "76034f57-30d1-4cd8-b364-6b6f83672dfb",
   "metadata": {},
   "outputs": [
    {
     "name": "stdout",
     "output_type": "stream",
     "text": [
      "You are overweight.\n"
     ]
    }
   ],
   "source": [
    "if BMI > 0:\n",
    "    if (BMI < 18.5):\n",
    "        print(\"You are Underweight.\")\n",
    "    elif(BMI <= 24.9):\n",
    "        print(\"You are Healthy.\")\n",
    "    elif (BMI <= 29.9):\n",
    "        print(\"You are overweight.\")\n",
    "    elif (BMI <= 34.5):\n",
    "        print(\"You are Obese.\")\n",
    "    elif (BMI <= 39.9):\n",
    "        print(\"You are Severely Obese.\")\n",
    "    elif (BMI >= 40):\n",
    "        print(\"You are Morbidly Obese.\")\n",
    "    else:\n",
    "        print(\"Inputs Invalid\")"
   ]
  },
  {
   "cell_type": "code",
   "execution_count": null,
   "id": "79314ec5-76d9-4ef8-85a5-c9566e9df065",
   "metadata": {},
   "outputs": [],
   "source": []
  },
  {
   "cell_type": "code",
   "execution_count": 51,
   "id": "98221191-b02b-4e8c-b7b3-b821f613cf50",
   "metadata": {},
   "outputs": [
    {
     "name": "stdin",
     "output_type": "stream",
     "text": [
      "Enter your name:  Akilesh\n",
      "Enter your weight in kgs:  98\n",
      "Enter your height in meters:  1.9\n"
     ]
    },
    {
     "name": "stdout",
     "output_type": "stream",
     "text": [
      "Your BMI is 27.146814404432135\n",
      "Akilesh, you are Overweight.\n"
     ]
    }
   ],
   "source": [
    "name = input(\"Enter your name: \")\n",
    "weight = float(input(\"Enter your weight in kgs: \"))\n",
    "height = float(input(\"Enter your height in meters: \"))\n",
    "\n",
    "BMI = (weight / height**2)\n",
    "def bmi_string():\n",
    "    print(\"Your BMI is \", end=\"\", flush=True)\n",
    "bmi_string()\n",
    "print(BMI)\n",
    "\n",
    "if BMI > 0:\n",
    "    if (BMI < 18.5):\n",
    "        print(name + \", you are Underweight.\")\n",
    "    elif(BMI <= 24.9):\n",
    "        print(name + \", you are Healthy.\")\n",
    "    elif (BMI <= 29.9):\n",
    "        print(name + \", you are Overweight.\")\n",
    "    elif (BMI <= 34.5):\n",
    "        print(name + \", you are Obese.\")\n",
    "    elif (BMI <= 39.9):\n",
    "        print(name + \", you are Severely Obese.\")\n",
    "    elif (BMI >= 40):\n",
    "        print(name + \", you are Morbidly Obese.\")\n",
    "    else:\n",
    "        print(\"Inputs Invalid\")\n",
    "else:\n",
    "    print(\"Error in computing. Please recalculate.\")"
   ]
  },
  {
   "cell_type": "code",
   "execution_count": null,
   "id": "f95851a7-3730-4dbd-a7a8-7587101ba28d",
   "metadata": {},
   "outputs": [],
   "source": []
  },
  {
   "cell_type": "code",
   "execution_count": null,
   "id": "1c54697a-542b-4678-97ec-29cbab2933c3",
   "metadata": {},
   "outputs": [],
   "source": []
  },
  {
   "cell_type": "code",
   "execution_count": null,
   "id": "83e720e6-400e-475d-8d9d-f6f8bdd33be0",
   "metadata": {},
   "outputs": [],
   "source": []
  },
  {
   "cell_type": "code",
   "execution_count": null,
   "id": "035d3085-9365-4b3e-b1e8-82b36659f031",
   "metadata": {},
   "outputs": [],
   "source": []
  },
  {
   "cell_type": "code",
   "execution_count": null,
   "id": "bb49bf98-2ada-4e51-b9b8-c3db72d52e06",
   "metadata": {},
   "outputs": [],
   "source": []
  },
  {
   "cell_type": "code",
   "execution_count": null,
   "id": "434b1eef-2cc3-49bc-8ef2-605dd3e0140d",
   "metadata": {},
   "outputs": [],
   "source": []
  },
  {
   "cell_type": "code",
   "execution_count": null,
   "id": "cda2e9a5-7725-41bc-8c2a-d6514f51dd2b",
   "metadata": {},
   "outputs": [],
   "source": []
  },
  {
   "cell_type": "code",
   "execution_count": null,
   "id": "b8ba33db-be36-4a14-999c-bc93e3469a66",
   "metadata": {},
   "outputs": [],
   "source": []
  }
 ],
 "metadata": {
  "kernelspec": {
   "display_name": "Python 3 (ipykernel)",
   "language": "python",
   "name": "python3"
  },
  "language_info": {
   "codemirror_mode": {
    "name": "ipython",
    "version": 3
   },
   "file_extension": ".py",
   "mimetype": "text/x-python",
   "name": "python",
   "nbconvert_exporter": "python",
   "pygments_lexer": "ipython3",
   "version": "3.11.7"
  }
 },
 "nbformat": 4,
 "nbformat_minor": 5
}
